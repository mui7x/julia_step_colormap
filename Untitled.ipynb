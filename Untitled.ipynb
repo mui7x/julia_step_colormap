{
 "cells": [
  {
   "cell_type": "code",
   "execution_count": null,
   "id": "85bf9f4d-ea64-4bac-91c5-27da25a16c9c",
   "metadata": {},
   "outputs": [],
   "source": [
    "using PyPlot\n",
    "using PyCall\n",
    "@pyimport matplotlib.gridspec as gridspec\n",
    "@pyimport matplotlib.transforms as mtransforms\n",
    "axes_grid1 = pyimport(\"mpl_toolkits.axes_grid1\")\n",
    "axes_grid1_i = pyimport(\"mpl_toolkits.axes_grid1.inset_locator\")\n",
    "rcParams = PyPlot.PyDict(PyPlot.matplotlib.\"rcParams\")\n",
    "rcParams[\"font.family\"] =\"Arial\"#使用するフォント\n",
    "rcParams[\"xtick.direction\"] = \"in\"#x軸の目盛線が内向き(\"in\")か外向き(\"out\")か双方向か(\"inout\")\n",
    "rcParams[\"ytick.direction\"] = \"in\"#y軸の目盛線が内向き(\"in\")か外向き(\"out\")か双方向か(\"inout\")\n",
    "rcParams[\"xtick.major.width\"] = 1.0#x軸主目盛り線の線幅\n",
    "rcParams[\"ytick.major.width\"] = 1.0#y軸主目盛り線の線幅\n",
    "rcParams[\"font.size\"] = 8 #フォントの大きさ\n",
    "rcParams[\"axes.linewidth\"] = 1.0# 軸の線幅edge linewidth。囲みの太さ\n"
   ]
  },
  {
   "cell_type": "code",
   "execution_count": null,
   "id": "faafeacd-ae76-495b-9852-530a0b17d0dd",
   "metadata": {},
   "outputs": [],
   "source": [
    "C(g) = QMB.plt.RGB[g[z] for z=LinRange(0,1,4)]\n",
    "# colormap schemeの指定\n",
    "g = :viridis\n",
    "# 色のリスト作成(パイプ使用)\n",
    "colorlist  = QMB.plt.cgrad(g) |> C \n",
    "rgb_sequence(c) = (QMB.plt.red(c), QMB.plt.green(c), QMB.plt.blue(c))"
   ]
  },
  {
   "cell_type": "code",
   "execution_count": null,
   "id": "db3f37a0-a115-405e-b08c-cf14c2ff1b8b",
   "metadata": {},
   "outputs": [],
   "source": [
    "Ncolor=24\n",
    "span=5\n",
    "seq_color=LinRange(0,1,Ncolor)\n",
    "C(g) = QMB.plt.RGB[g[z] for z in seq_color[end-span*4:span:end]]\n",
    "# 色のリスト作成(パイプ使用)\n",
    "colorlist_orange  = QMB.plt.cgrad(:Oranges) |> C \n",
    "colorlist_purples  = QMB.plt.cgrad(:Purples) |> C \n",
    "colorlist_red  = QMB.plt.cgrad(:Reds) |> C \n",
    "colorlist_blue  = QMB.plt.cgrad(:Blues) |> C "
   ]
  },
  {
   "cell_type": "code",
   "execution_count": null,
   "id": "1178086a-d007-490c-bb20-60c532df8de0",
   "metadata": {},
   "outputs": [],
   "source": [
    "color=rgb_sequence(colorlist[itr])"
   ]
  },
  {
   "cell_type": "code",
   "execution_count": null,
   "id": "e693ceeb-df61-4352-855e-b713195d2f3a",
   "metadata": {},
   "outputs": [],
   "source": [
    "c=rgb_sequence(colorlist_orange[L_itr])"
   ]
  }
 ],
 "metadata": {
  "kernelspec": {
   "display_name": "Julia 1.8.2",
   "language": "julia",
   "name": "julia-1.8"
  },
  "language_info": {
   "file_extension": ".jl",
   "mimetype": "application/julia",
   "name": "julia",
   "version": "1.8.2"
  }
 },
 "nbformat": 4,
 "nbformat_minor": 5
}
